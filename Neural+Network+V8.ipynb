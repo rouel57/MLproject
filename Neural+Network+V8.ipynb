{
 "cells": [
  {
   "cell_type": "code",
   "execution_count": null,
   "metadata": {},
   "outputs": [],
   "source": [
    "import pandas as pd\n",
    "import numpy\n",
    "from keras.models import Sequential\n",
    "from keras.layers import Dense\n",
    "from keras.layers import Dropout \n",
    "from keras.optimizers import SGD, Adam, rmsprop\n",
    "from sklearn.model_selection import train_test_split\n",
    "from sklearn.model_selection import validation_curve\n",
    "from sklearn.metrics import confusion_matrix\n",
    "from sklearn.metrics import accuracy_score\n",
    "from sklearn.metrics import classification_report\n",
    "from sklearn.metrics import explained_variance_score\n",
    "\n",
    "dataset = pd.read_csv('./diabetes.csv', delimiter=\",\")\n",
    "dataset['Glucose'] = dataset['Glucose'].replace(0, numpy.nan)\n",
    "dataset['BloodPressure'] = dataset['BloodPressure'].replace(0, numpy.nan)\n",
    "dataset['SkinThickness'] = dataset['SkinThickness'].replace(0, numpy.nan)\n",
    "dataset['Insulin'] = dataset['Insulin'].replace(0, numpy.nan)\n",
    "dataset['BMI'] = dataset['BMI'].replace(0, numpy.nan)\n",
    "dataset=dataset.fillna(dataset.mean())"
   ]
  },
  {
   "cell_type": "code",
   "execution_count": null,
   "metadata": {
    "scrolled": true
   },
   "outputs": [],
   "source": [
    "x = dataset.values[:, 0:8]\n",
    "y = dataset.values[:,8]\n",
    "\n",
    "Xtrain, Xtest, Ytrain, Ytest = train_test_split(x, y, test_size=0.2, random_state=100)\n",
    "Xtrain, Xval, Ytrain, Yval = train_test_split(Xtrain, Ytrain, test_size=0.3, random_state=100)\n",
    "\n",
    "model = Sequential()\n",
    "model.add(Dense(30, input_dim=8, activation = 'relu'))\n",
    "model.add(Dense(30, activation = 'relu'))\n",
    "model.add(Dense(30, activation = 'relu'))\n",
    "model.add(Dense(30, activation = 'relu'))\n",
    "model.add(Dense(1, activation = 'sigmoid'))\n",
    "\n",
    "optimizer = Adam(lr=0.001)\n",
    "\n",
    "model.compile(loss='binary_crossentropy', optimizer=optimizer, metrics=['accuracy'])\n",
    "\n",
    "model.fit(Xtrain, Ytrain, epochs=60, batch_size=20)\n",
    "model.fit(Xtrain, Ytrain, epochs=30, batch_size=32, validation_split=1/6)\n",
    "\n",
    "predictions = [round(x[0]) for x in model.predict(Xval)]\n",
    "print(confusion_matrix(Yval, predictions))\n",
    "print(\"Accuracy is \", accuracy_score(Yval,predictions)*100)\n",
    "\n",
    "tn, fp, fn, tp = confusion_matrix(Yval, predictions).ravel()\n",
    "print('TN FP FN TP')\n",
    "print((tn, fp, fn, tp))\n",
    "print (classification_report(Yval, predictions))\n",
    "print (explained_variance_score(Yval, predictions))\n",
    "\n",
    "\n"
   ]
  },
  {
   "cell_type": "code",
   "execution_count": null,
   "metadata": {
    "collapsed": true
   },
   "outputs": [],
   "source": []
  }
 ],
 "metadata": {
  "kernelspec": {
   "display_name": "Python 3",
   "language": "python",
   "name": "python3"
  },
  "language_info": {
   "codemirror_mode": {
    "name": "ipython",
    "version": 3
   },
   "file_extension": ".py",
   "mimetype": "text/x-python",
   "name": "python",
   "nbconvert_exporter": "python",
   "pygments_lexer": "ipython3",
   "version": "3.6.4"
  }
 },
 "nbformat": 4,
 "nbformat_minor": 2
}
